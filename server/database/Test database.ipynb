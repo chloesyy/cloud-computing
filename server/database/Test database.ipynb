{
 "cells": [
  {
   "cell_type": "code",
   "execution_count": 1,
   "id": "bde01802",
   "metadata": {},
   "outputs": [],
   "source": [
    "from RDSdatabase import RDSdatabase\n",
    "import datetime"
   ]
  },
  {
   "cell_type": "code",
   "execution_count": 2,
   "id": "80da3a43",
   "metadata": {},
   "outputs": [],
   "source": [
    "masterUserName = \"masteruser\"\n",
    "masterPassword = \"hishmaster123\"\n",
    "host = \"hishdb01.cfwyts8tlkjs.us-east-1.rds.amazonaws.com\"\n",
    "dbName = \"postgres\"\n",
    "postgresPort = 5432\n",
    "rdsDB = RDSdatabase(masterUserName,masterPassword,host,dbName,postgresPort)"
   ]
  },
  {
   "cell_type": "code",
   "execution_count": 3,
   "id": "ecf1bab0",
   "metadata": {},
   "outputs": [
    {
     "ename": "DuplicateTable",
     "evalue": "relation \"userdetails\" already exists\n",
     "output_type": "error",
     "traceback": [
      "\u001b[0;31m---------------------------------------------------------------------------\u001b[0m",
      "\u001b[0;31mDuplicateTable\u001b[0m                            Traceback (most recent call last)",
      "Cell \u001b[0;32mIn[3], line 2\u001b[0m\n\u001b[1;32m      1\u001b[0m \u001b[38;5;66;03m#initial config\u001b[39;00m\n\u001b[0;32m----> 2\u001b[0m \u001b[43mrdsDB\u001b[49m\u001b[38;5;241;43m.\u001b[39;49m\u001b[43minitialConfig\u001b[49m\u001b[43m(\u001b[49m\u001b[43m)\u001b[49m\n",
      "File \u001b[0;32m~/RDSdatabase.py:49\u001b[0m, in \u001b[0;36mRDSdatabase.initialConfig\u001b[0;34m(self)\u001b[0m\n\u001b[1;32m     21\u001b[0m \u001b[38;5;28;01mdef\u001b[39;00m \u001b[38;5;21minitialConfig\u001b[39m(\u001b[38;5;28mself\u001b[39m): \u001b[38;5;66;03m#run when starting app\u001b[39;00m\n\u001b[1;32m     22\u001b[0m     \u001b[38;5;66;03m#create tables for organisation and user details\u001b[39;00m\n\u001b[1;32m     23\u001b[0m     sqlQuery \u001b[38;5;241m=\u001b[39m sql\u001b[38;5;241m.\u001b[39mSQL(\u001b[38;5;124m\"\"\"\u001b[39m\n\u001b[1;32m     24\u001b[0m \u001b[38;5;124m    CREATE TABLE userDetails (\u001b[39m\n\u001b[1;32m     25\u001b[0m \u001b[38;5;124m    userName VARCHAR (50) PRIMARY KEY,\u001b[39m\n\u001b[0;32m   (...)\u001b[0m\n\u001b[1;32m     46\u001b[0m \u001b[38;5;124m    );\u001b[39m\n\u001b[1;32m     47\u001b[0m \u001b[38;5;124m    \u001b[39m\u001b[38;5;124m\"\"\"\u001b[39m)\n\u001b[0;32m---> 49\u001b[0m     \u001b[38;5;28;43mself\u001b[39;49m\u001b[38;5;241;43m.\u001b[39;49m\u001b[43mmasterCursor\u001b[49m\u001b[38;5;241;43m.\u001b[39;49m\u001b[43mexecute\u001b[49m\u001b[43m(\u001b[49m\u001b[43msqlQuery\u001b[49m\u001b[43m)\u001b[49m\n",
      "\u001b[0;31mDuplicateTable\u001b[0m: relation \"userdetails\" already exists\n"
     ]
    }
   ],
   "source": [
    "#initial config\n",
    "rdsDB.initialConfig()"
   ]
  },
  {
   "cell_type": "markdown",
   "id": "73ab70ea",
   "metadata": {},
   "source": [
    "Create New Organisation"
   ]
  },
  {
   "cell_type": "code",
   "execution_count": 3,
   "id": "20095efb",
   "metadata": {},
   "outputs": [],
   "source": [
    "newOrgName1 = \"ABC Healthcare\"\n",
    "rdsDB.createNewOrganisation(newOrgName1)"
   ]
  },
  {
   "cell_type": "code",
   "execution_count": 7,
   "id": "6028a2b5",
   "metadata": {},
   "outputs": [],
   "source": [
    "newOrgName6 = \"QRS Healthcare\"\n",
    "rdsDB.createNewOrganisation(newOrgName6)"
   ]
  },
  {
   "cell_type": "markdown",
   "id": "bac2bc38",
   "metadata": {},
   "source": [
    "Create users under Organisation"
   ]
  },
  {
   "cell_type": "code",
   "execution_count": 4,
   "id": "20b47cf7",
   "metadata": {},
   "outputs": [],
   "source": [
    "newUser1 = \"Alan\"\n",
    "userPassword1 = \"AlanDoctor1\"\n",
    "rdsDB.createNewUser(newUser1, userPassword1, newOrgName1)"
   ]
  },
  {
   "cell_type": "code",
   "execution_count": 6,
   "id": "dfa236f8",
   "metadata": {},
   "outputs": [],
   "source": [
    "newUser2 = \"Bob\"\n",
    "userPassword2 = \"BobDoctor2\"\n",
    "rdsDB.createNewUser(newUser2, userPassword2, newOrgName1)"
   ]
  },
  {
   "cell_type": "code",
   "execution_count": 4,
   "id": "5652dfad",
   "metadata": {},
   "outputs": [],
   "source": [
    "newUser3 = \"Ella\"\n",
    "userPassword3 = \"EllaDoctor3\"\n",
    "rdsDB.createNewUser(newUser3, userPassword3, newOrgName2)"
   ]
  },
  {
   "cell_type": "code",
   "execution_count": 5,
   "id": "db98ed61",
   "metadata": {},
   "outputs": [],
   "source": [
    "newUser4 = \"Dan\"\n",
    "userPassword4 = \"DanDoctor4\"\n",
    "rdsDB.createNewUser(newUser4, userPassword4, newOrgName3)"
   ]
  },
  {
   "cell_type": "code",
   "execution_count": 9,
   "id": "bfd828db",
   "metadata": {},
   "outputs": [],
   "source": [
    "newUser5 = \"Fed\"\n",
    "userPassword5 = \"FedDoctor4\"\n",
    "rdsDB.createNewUser(newUser5, userPassword5, newOrgName4)"
   ]
  },
  {
   "cell_type": "code",
   "execution_count": 8,
   "id": "6605f998",
   "metadata": {},
   "outputs": [],
   "source": [
    "newUser6 = \"Zane\"\n",
    "userPassword6 = \"ZaneDoctor6\"\n",
    "rdsDB.createNewUser(newUser6, userPassword6, newOrgName6)"
   ]
  },
  {
   "cell_type": "markdown",
   "id": "46be161d",
   "metadata": {},
   "source": [
    "View Tables"
   ]
  },
  {
   "cell_type": "code",
   "execution_count": 11,
   "id": "db78b7d1",
   "metadata": {},
   "outputs": [
    {
     "data": {
      "text/plain": [
       "([(1,\n",
       "   'ABCD',\n",
       "   'EFGH',\n",
       "   datetime.datetime(1900, 3, 17, 0, 0),\n",
       "   datetime.datetime(2023, 3, 17, 0, 0),\n",
       "   17,\n",
       "   812344567,\n",
       "   True,\n",
       "   False,\n",
       "   'A',\n",
       "   'Positive case',\n",
       "   123.456,\n",
       "   123.4567,\n",
       "   1.2345678,\n",
       "   12345.786,\n",
       "   9876.54321,\n",
       "   987.654,\n",
       "   123.789,\n",
       "   None,\n",
       "   'positive',\n",
       "   None,\n",
       "   None)],\n",
       " <connection object at 0x7fd3e2ca2200; dsn: 'user=Alan password=xxx dbname=postgres host=hishdb01.cfwyts8tlkjs.us-east-1.rds.amazonaws.com port=5432', closed: 0>,\n",
       " <cursor object at 0x7fd3e2ce6020; closed: 0>)"
      ]
     },
     "execution_count": 11,
     "metadata": {},
     "output_type": "execute_result"
    }
   ],
   "source": [
    "newUser1 = \"Alan\"\n",
    "userPassword1 = \"AlanDoctor1\"\n",
    "newOrgName1 = \"ABC Healthcare\"\n",
    "rdsDB.userViewTable(newUser1, userPassword1, newOrgName1)"
   ]
  },
  {
   "cell_type": "code",
   "execution_count": 6,
   "id": "33f8c064",
   "metadata": {},
   "outputs": [
    {
     "data": {
      "text/plain": [
       "([],\n",
       " <connection object at 0x7ff48f766c00; dsn: 'user=Bob password=xxx dbname=postgres host=hish-db-01.cfwyts8tlkjs.us-east-1.rds.amazonaws.com port=5432', closed: 0>,\n",
       " <cursor object at 0x7ff48f7f18a0; closed: 0>)"
      ]
     },
     "execution_count": 6,
     "metadata": {},
     "output_type": "execute_result"
    }
   ],
   "source": [
    "newUser2 = \"Bob\"\n",
    "userPassword2 = \"BobDoctor2\"\n",
    "newOrgName1 = \"ABC Healthcare\"\n",
    "rdsDB.userViewTable(newUser2, userPassword2, newOrgName1)"
   ]
  },
  {
   "cell_type": "code",
   "execution_count": 4,
   "id": "bb927d60",
   "metadata": {},
   "outputs": [
    {
     "data": {
      "text/plain": [
       "([],\n",
       " <connection object at 0x7fd72e1fbec0; dsn: 'user=Ella password=xxx dbname=postgres host=hish-db-01.cfwyts8tlkjs.us-east-1.rds.amazonaws.com port=5432', closed: 0>,\n",
       " <cursor object at 0x7fd72e0cdb70; closed: 0>)"
      ]
     },
     "execution_count": 4,
     "metadata": {},
     "output_type": "execute_result"
    }
   ],
   "source": [
    "newUser3 = \"Ella\"\n",
    "userPassword3 = \"EllaDoctor3\"\n",
    "newOrgName2 = \"GHI Healthcare\"\n",
    "rdsDB.userViewTable(newUser3, userPassword3, newOrgName2)"
   ]
  },
  {
   "cell_type": "code",
   "execution_count": 6,
   "id": "2967016b",
   "metadata": {},
   "outputs": [
    {
     "data": {
      "text/plain": [
       "([],\n",
       " <connection object at 0x7fb5faa2fec0; dsn: 'user=Dan password=xxx dbname=postgres host=hishdb01.cfwyts8tlkjs.us-east-1.rds.amazonaws.com port=5432', closed: 0>,\n",
       " <cursor object at 0x7fb61d309a80; closed: 0>)"
      ]
     },
     "execution_count": 6,
     "metadata": {},
     "output_type": "execute_result"
    }
   ],
   "source": [
    "newUser4 = \"Dan\"\n",
    "userPassword4 = \"DanDoctor4\"\n",
    "newOrgName3 = \"JKL Healthcare\"\n",
    "rdsDB.userViewTable(newUser4, userPassword4, newOrgName3)"
   ]
  },
  {
   "cell_type": "code",
   "execution_count": 12,
   "id": "591bbeaa",
   "metadata": {},
   "outputs": [
    {
     "data": {
      "text/plain": [
       "([(1,\n",
       "   'Cindy',\n",
       "   'Daisy',\n",
       "   datetime.datetime(1900, 3, 17, 0, 0),\n",
       "   datetime.datetime(2023, 3, 17, 0, 0),\n",
       "   17,\n",
       "   812344567,\n",
       "   True,\n",
       "   False,\n",
       "   'A',\n",
       "   'Positive case',\n",
       "   123.456,\n",
       "   123.4567,\n",
       "   1.2345678,\n",
       "   12345.786,\n",
       "   9876.54321,\n",
       "   987.654,\n",
       "   123.789,\n",
       "   None,\n",
       "   'positive',\n",
       "   None,\n",
       "   None)],\n",
       " <connection object at 0x7fd3e2ca2340; dsn: 'user=Fed password=xxx dbname=postgres host=hishdb01.cfwyts8tlkjs.us-east-1.rds.amazonaws.com port=5432', closed: 0>,\n",
       " <cursor object at 0x7fd3e2ce58a0; closed: 0>)"
      ]
     },
     "execution_count": 12,
     "metadata": {},
     "output_type": "execute_result"
    }
   ],
   "source": [
    "newUser5 = \"Fed\"\n",
    "userPassword5 = \"FedDoctor4\"\n",
    "newOrgName4 = \"XYZ Healthcare\"\n",
    "rdsDB.userViewTable(newUser5, userPassword5, newOrgName4)"
   ]
  },
  {
   "cell_type": "markdown",
   "id": "fd446b91",
   "metadata": {},
   "source": [
    "Remove User"
   ]
  },
  {
   "cell_type": "code",
   "execution_count": 7,
   "id": "1964d0ad",
   "metadata": {},
   "outputs": [],
   "source": [
    "rdsDB.removeUser(newUser1)"
   ]
  },
  {
   "cell_type": "code",
   "execution_count": 8,
   "id": "5583fe26",
   "metadata": {},
   "outputs": [
    {
     "ename": "OperationalError",
     "evalue": "FATAL:  password authentication failed for user \"Alan\"\nFATAL:  password authentication failed for user \"Alan\"\n",
     "output_type": "error",
     "traceback": [
      "\u001b[0;31m---------------------------------------------------------------------------\u001b[0m",
      "\u001b[0;31mOperationalError\u001b[0m                          Traceback (most recent call last)",
      "Cell \u001b[0;32mIn[8], line 1\u001b[0m\n\u001b[0;32m----> 1\u001b[0m \u001b[43mrdsDB\u001b[49m\u001b[38;5;241;43m.\u001b[39;49m\u001b[43muserViewTable\u001b[49m\u001b[43m(\u001b[49m\u001b[43mnewUser1\u001b[49m\u001b[43m,\u001b[49m\u001b[43m \u001b[49m\u001b[43muserPassword1\u001b[49m\u001b[43m,\u001b[49m\u001b[43m \u001b[49m\u001b[43mnewOrgName1\u001b[49m\u001b[43m)\u001b[49m\n",
      "File \u001b[0;32m~/RDSdatabase.py:85\u001b[0m, in \u001b[0;36mRDSdatabase.userViewTable\u001b[0;34m(self, userName, userPassword, organisationName)\u001b[0m\n\u001b[1;32m     84\u001b[0m \u001b[38;5;28;01mdef\u001b[39;00m \u001b[38;5;21muserViewTable\u001b[39m(\u001b[38;5;28mself\u001b[39m, userName, userPassword, organisationName):\n\u001b[0;32m---> 85\u001b[0m     currentUserEngine, currentUserCursor \u001b[38;5;241m=\u001b[39m \u001b[38;5;28;43mself\u001b[39;49m\u001b[38;5;241;43m.\u001b[39;49m\u001b[43muserSignIn\u001b[49m\u001b[43m(\u001b[49m\u001b[43muserName\u001b[49m\u001b[43m,\u001b[49m\u001b[43m \u001b[49m\u001b[43muserPassword\u001b[49m\u001b[43m)\u001b[49m\n\u001b[1;32m     86\u001b[0m     userTableName \u001b[38;5;241m=\u001b[39m \u001b[38;5;28mself\u001b[39m\u001b[38;5;241m.\u001b[39mmapOrganisationNameToTableName(organisationName)\n\u001b[1;32m     87\u001b[0m     currentUserCursor\u001b[38;5;241m.\u001b[39mexecute(sql\u001b[38;5;241m.\u001b[39mSQL(\u001b[38;5;124m\"\u001b[39m\u001b[38;5;124mSELECT * FROM \u001b[39m\u001b[38;5;132;01m{table}\u001b[39;00m\u001b[38;5;124m;\u001b[39m\u001b[38;5;124m\"\u001b[39m)\u001b[38;5;241m.\u001b[39mformat(table\u001b[38;5;241m=\u001b[39msql\u001b[38;5;241m.\u001b[39mIdentifier(userTableName)))\n",
      "File \u001b[0;32m~/RDSdatabase.py:72\u001b[0m, in \u001b[0;36mRDSdatabase.userSignIn\u001b[0;34m(self, userName, userPassword)\u001b[0m\n\u001b[1;32m     71\u001b[0m \u001b[38;5;28;01mdef\u001b[39;00m \u001b[38;5;21muserSignIn\u001b[39m(\u001b[38;5;28mself\u001b[39m, userName, userPassword):\n\u001b[0;32m---> 72\u001b[0m     userEngine \u001b[38;5;241m=\u001b[39m \u001b[43mpsycopg2\u001b[49m\u001b[38;5;241;43m.\u001b[39;49m\u001b[43mconnect\u001b[49m\u001b[43m(\u001b[49m\n\u001b[1;32m     73\u001b[0m \u001b[43m        \u001b[49m\u001b[43mdatabase\u001b[49m\u001b[38;5;241;43m=\u001b[39;49m\u001b[38;5;28;43mself\u001b[39;49m\u001b[38;5;241;43m.\u001b[39;49m\u001b[43mdatabaseName\u001b[49m\u001b[43m,\u001b[49m\n\u001b[1;32m     74\u001b[0m \u001b[43m        \u001b[49m\u001b[43muser\u001b[49m\u001b[38;5;241;43m=\u001b[39;49m\u001b[43muserName\u001b[49m\u001b[43m,\u001b[49m\n\u001b[1;32m     75\u001b[0m \u001b[43m        \u001b[49m\u001b[43mpassword\u001b[49m\u001b[38;5;241;43m=\u001b[39;49m\u001b[43muserPassword\u001b[49m\u001b[43m,\u001b[49m\n\u001b[1;32m     76\u001b[0m \u001b[43m        \u001b[49m\u001b[43mhost\u001b[49m\u001b[38;5;241;43m=\u001b[39;49m\u001b[38;5;28;43mself\u001b[39;49m\u001b[38;5;241;43m.\u001b[39;49m\u001b[43mhostName\u001b[49m\u001b[43m,\u001b[49m\n\u001b[1;32m     77\u001b[0m \u001b[43m        \u001b[49m\u001b[43mport\u001b[49m\u001b[38;5;241;43m=\u001b[39;49m\u001b[38;5;28;43mself\u001b[39;49m\u001b[38;5;241;43m.\u001b[39;49m\u001b[43mportNum\u001b[49m\n\u001b[1;32m     78\u001b[0m \u001b[43m    \u001b[49m\u001b[43m)\u001b[49m\n\u001b[1;32m     80\u001b[0m     userCursor \u001b[38;5;241m=\u001b[39m userEngine\u001b[38;5;241m.\u001b[39mcursor()\n\u001b[1;32m     81\u001b[0m     userEngine\u001b[38;5;241m.\u001b[39mautocommit \u001b[38;5;241m=\u001b[39m \u001b[38;5;28;01mTrue\u001b[39;00m\n",
      "File \u001b[0;32m~/ENTER/lib/python3.10/site-packages/psycopg2/__init__.py:122\u001b[0m, in \u001b[0;36mconnect\u001b[0;34m(dsn, connection_factory, cursor_factory, **kwargs)\u001b[0m\n\u001b[1;32m    119\u001b[0m     kwasync[\u001b[38;5;124m'\u001b[39m\u001b[38;5;124masync_\u001b[39m\u001b[38;5;124m'\u001b[39m] \u001b[38;5;241m=\u001b[39m kwargs\u001b[38;5;241m.\u001b[39mpop(\u001b[38;5;124m'\u001b[39m\u001b[38;5;124masync_\u001b[39m\u001b[38;5;124m'\u001b[39m)\n\u001b[1;32m    121\u001b[0m dsn \u001b[38;5;241m=\u001b[39m _ext\u001b[38;5;241m.\u001b[39mmake_dsn(dsn, \u001b[38;5;241m*\u001b[39m\u001b[38;5;241m*\u001b[39mkwargs)\n\u001b[0;32m--> 122\u001b[0m conn \u001b[38;5;241m=\u001b[39m \u001b[43m_connect\u001b[49m\u001b[43m(\u001b[49m\u001b[43mdsn\u001b[49m\u001b[43m,\u001b[49m\u001b[43m \u001b[49m\u001b[43mconnection_factory\u001b[49m\u001b[38;5;241;43m=\u001b[39;49m\u001b[43mconnection_factory\u001b[49m\u001b[43m,\u001b[49m\u001b[43m \u001b[49m\u001b[38;5;241;43m*\u001b[39;49m\u001b[38;5;241;43m*\u001b[39;49m\u001b[43mkwasync\u001b[49m\u001b[43m)\u001b[49m\n\u001b[1;32m    123\u001b[0m \u001b[38;5;28;01mif\u001b[39;00m cursor_factory \u001b[38;5;129;01mis\u001b[39;00m \u001b[38;5;129;01mnot\u001b[39;00m \u001b[38;5;28;01mNone\u001b[39;00m:\n\u001b[1;32m    124\u001b[0m     conn\u001b[38;5;241m.\u001b[39mcursor_factory \u001b[38;5;241m=\u001b[39m cursor_factory\n",
      "\u001b[0;31mOperationalError\u001b[0m: FATAL:  password authentication failed for user \"Alan\"\nFATAL:  password authentication failed for user \"Alan\"\n"
     ]
    }
   ],
   "source": [
    "rdsDB.userViewTable(newUser1, userPassword1, newOrgName1)"
   ]
  },
  {
   "cell_type": "markdown",
   "id": "c0f55eb8",
   "metadata": {},
   "source": [
    "Add Patient Data"
   ]
  },
  {
   "cell_type": "code",
   "execution_count": 10,
   "id": "99868e77",
   "metadata": {},
   "outputs": [
    {
     "data": {
      "text/plain": [
       "([(1,\n",
       "   'Cindy',\n",
       "   'Daisy',\n",
       "   datetime.datetime(1900, 3, 17, 0, 0),\n",
       "   datetime.datetime(2023, 3, 17, 0, 0),\n",
       "   17,\n",
       "   812344567,\n",
       "   True,\n",
       "   False,\n",
       "   'A',\n",
       "   'Positive case',\n",
       "   123.456,\n",
       "   123.4567,\n",
       "   1.2345678,\n",
       "   12345.786,\n",
       "   9876.54321,\n",
       "   987.654,\n",
       "   123.789,\n",
       "   None,\n",
       "   'positive',\n",
       "   None,\n",
       "   None)],\n",
       " <connection object at 0x7fd3e2ca20c0; dsn: 'user=Fed password=xxx dbname=postgres host=hishdb01.cfwyts8tlkjs.us-east-1.rds.amazonaws.com port=5432', closed: 0>,\n",
       " <cursor object at 0x7fd3e2ce5c60; closed: 0>)"
      ]
     },
     "execution_count": 10,
     "metadata": {},
     "output_type": "execute_result"
    }
   ],
   "source": [
    "patient1Details = {\n",
    "    \"firstName\": \"Cindy\",\n",
    "    \"lastName\": \"Daisy\",\n",
    "    \"DOB\": datetime.date(1900, 3, 17),\n",
    "    \"date_of_service\": datetime.date(2023, 3, 17),\n",
    "    \"area_code\": 17,\n",
    "    \"phoneNum\": 812344567,\n",
    "    \"is_left_breast\": True,\n",
    "    \"is_implant\": False,\n",
    "    \"density\": 'A',\n",
    "    \"remarks\": 'Positive case',\n",
    "    \"concavity_mean\": 123.456,\n",
    "    \"concavity_SE\": 123.4567,\n",
    "    \"area_mean\": 1.2345678,\n",
    "    \"area_SE\": 12345.786,\n",
    "    \"area_worst\": 9876.54321,\n",
    "    \"symmetry_mean\": 987.654,\n",
    "    \"texture_mean\": 123.789,\n",
    "    \"results\": 'positive'\n",
    "}\n",
    "\n",
    "newUser5 = \"Fed\"\n",
    "userPassword5 = \"FedDoctor4\"\n",
    "newOrgName4 = \"XYZ Healthcare\"\n",
    "rdsDB.addPatientData(newUser5, userPassword5, newOrgName4, **patient1Details)"
   ]
  },
  {
   "cell_type": "code",
   "execution_count": 6,
   "id": "14fd94d8",
   "metadata": {},
   "outputs": [
    {
     "data": {
      "text/plain": [
       "([(1,\n",
       "   'ABCD',\n",
       "   'EFGH',\n",
       "   datetime.datetime(1900, 3, 17, 0, 0),\n",
       "   datetime.datetime(2023, 3, 17, 0, 0),\n",
       "   17,\n",
       "   812344567,\n",
       "   True,\n",
       "   False,\n",
       "   'A',\n",
       "   'Positive case',\n",
       "   123.456,\n",
       "   123.4567,\n",
       "   1.2345678,\n",
       "   12345.786,\n",
       "   9876.54321,\n",
       "   987.654,\n",
       "   123.789,\n",
       "   None,\n",
       "   'positive',\n",
       "   None,\n",
       "   None)],\n",
       " <connection object at 0x7fd3e2ca1f80; dsn: 'user=Alan password=xxx dbname=postgres host=hishdb01.cfwyts8tlkjs.us-east-1.rds.amazonaws.com port=5432', closed: 0>,\n",
       " <cursor object at 0x7fd3e2ce5d50; closed: 0>)"
      ]
     },
     "execution_count": 6,
     "metadata": {},
     "output_type": "execute_result"
    }
   ],
   "source": [
    "patient1Details = {\n",
    "    \"firstName\": \"ABCD\",\n",
    "    \"lastName\": \"EFGH\",\n",
    "    \"DOB\": datetime.date(1900, 3, 17),\n",
    "    \"date_of_service\": datetime.date(2023, 3, 17),\n",
    "    \"area_code\": 17,\n",
    "    \"phoneNum\": 812344567,\n",
    "    \"is_left_breast\": True,\n",
    "    \"is_implant\": False,\n",
    "    \"density\": 'A',\n",
    "    \"remarks\": 'Positive case',\n",
    "    \"concavity_mean\": 123.456,\n",
    "    \"concavity_SE\": 123.4567,\n",
    "    \"area_mean\": 1.2345678,\n",
    "    \"area_SE\": 12345.786,\n",
    "    \"area_worst\": 9876.54321,\n",
    "    \"symmetry_mean\": 987.654,\n",
    "    \"texture_mean\": 123.789,\n",
    "    \"results\": 'positive'\n",
    "}\n",
    "\n",
    "newUser1 = \"Alan\"\n",
    "userPassword1 = \"AlanDoctor1\"\n",
    "newOrgName1 = \"ABC Healthcare\"\n",
    "rdsDB.addPatientData(newUser1, userPassword1, newOrgName1, **patient1Details)"
   ]
  },
  {
   "cell_type": "markdown",
   "id": "99ea6c55",
   "metadata": {},
   "source": [
    "Confirm Case"
   ]
  },
  {
   "cell_type": "code",
   "execution_count": 9,
   "id": "670486e9",
   "metadata": {},
   "outputs": [
    {
     "ename": "NotNullViolation",
     "evalue": "null value in column \"results\" of relation \"alldata\" violates not-null constraint\nDETAIL:  Failing row contains (isleftbreast, isimplant, density, remarks, concavitymean, concavityse, areamean, arease, areaworst, symmetrymean, texturemean, diagnosis, dateofclosure) = (t, f, A, Positive case, 123.456, 123.4567, 1.2345678, 12345.786, 9876.54321, 987.654, 123.789, positive, 2023-03-29 00:00:00).\n",
     "output_type": "error",
     "traceback": [
      "\u001b[0;31m---------------------------------------------------------------------------\u001b[0m",
      "\u001b[0;31mNotNullViolation\u001b[0m                          Traceback (most recent call last)",
      "Cell \u001b[0;32mIn[9], line 19\u001b[0m\n\u001b[1;32m     17\u001b[0m newUser6 \u001b[38;5;241m=\u001b[39m \u001b[38;5;124m\"\u001b[39m\u001b[38;5;124mZane\u001b[39m\u001b[38;5;124m\"\u001b[39m\n\u001b[1;32m     18\u001b[0m userPassword6 \u001b[38;5;241m=\u001b[39m \u001b[38;5;124m\"\u001b[39m\u001b[38;5;124mZaneDoctor6\u001b[39m\u001b[38;5;124m\"\u001b[39m\n\u001b[0;32m---> 19\u001b[0m \u001b[43mrdsDB\u001b[49m\u001b[38;5;241;43m.\u001b[39;49m\u001b[43msaveCloseCaseInDatabase\u001b[49m\u001b[43m(\u001b[49m\u001b[43mnewUser6\u001b[49m\u001b[43m,\u001b[49m\u001b[43m \u001b[49m\u001b[43muserPassword6\u001b[49m\u001b[43m,\u001b[49m\u001b[43m \u001b[49m\u001b[38;5;241;43m*\u001b[39;49m\u001b[38;5;241;43m*\u001b[39;49m\u001b[43mpatient1Details\u001b[49m\u001b[43m)\u001b[49m\n",
      "File \u001b[0;32m~/RDSdatabase.py:148\u001b[0m, in \u001b[0;36mRDSdatabase.saveCloseCaseInDatabase\u001b[0;34m(self, userName, userPassword, is_left_breast, is_implant, density, remarks, concavity_mean, concavity_SE, area_mean, area_SE, area_worst, symmetry_mean, texture_mean, diagnosis, date_of_closure)\u001b[0m\n\u001b[1;32m    144\u001b[0m currentUserEngine, currentUserCursor \u001b[38;5;241m=\u001b[39m \u001b[38;5;28mself\u001b[39m\u001b[38;5;241m.\u001b[39muserSignIn(userName, userPassword)\n\u001b[1;32m    145\u001b[0m sqlQuery \u001b[38;5;241m=\u001b[39m sql\u001b[38;5;241m.\u001b[39mSQL(\u001b[38;5;124m\"\"\"\u001b[39m\n\u001b[1;32m    146\u001b[0m \u001b[38;5;124mINSERT INTO allData (isLeftBreast,isImplant,density,remarks,concavityMean,concavitySE,areaMean,areaSE,areaWorst,symmetryMean,textureMean,diagnosis,dateOfClosure) VALUES (\u001b[39m\u001b[38;5;132;01m%s\u001b[39;00m\u001b[38;5;124m,\u001b[39m\u001b[38;5;132;01m%s\u001b[39;00m\u001b[38;5;124m,\u001b[39m\u001b[38;5;132;01m%s\u001b[39;00m\u001b[38;5;124m,\u001b[39m\u001b[38;5;132;01m%s\u001b[39;00m\u001b[38;5;124m,\u001b[39m\u001b[38;5;132;01m%s\u001b[39;00m\u001b[38;5;124m,\u001b[39m\u001b[38;5;132;01m%s\u001b[39;00m\u001b[38;5;124m,\u001b[39m\u001b[38;5;132;01m%s\u001b[39;00m\u001b[38;5;124m,\u001b[39m\u001b[38;5;132;01m%s\u001b[39;00m\u001b[38;5;124m,\u001b[39m\u001b[38;5;132;01m%s\u001b[39;00m\u001b[38;5;124m,\u001b[39m\u001b[38;5;132;01m%s\u001b[39;00m\u001b[38;5;124m,\u001b[39m\u001b[38;5;132;01m%s\u001b[39;00m\u001b[38;5;124m,\u001b[39m\u001b[38;5;132;01m%s\u001b[39;00m\u001b[38;5;124m,\u001b[39m\u001b[38;5;132;01m%s\u001b[39;00m\u001b[38;5;124m);\u001b[39m\n\u001b[1;32m    147\u001b[0m \u001b[38;5;124m\u001b[39m\u001b[38;5;124m\"\"\"\u001b[39m)\n\u001b[0;32m--> 148\u001b[0m \u001b[43mcurrentUserCursor\u001b[49m\u001b[38;5;241;43m.\u001b[39;49m\u001b[43mexecute\u001b[49m\u001b[43m(\u001b[49m\u001b[43msqlQuery\u001b[49m\u001b[43m,\u001b[49m\u001b[43m \u001b[49m\u001b[43m(\u001b[49m\u001b[43mis_left_breast\u001b[49m\u001b[43m,\u001b[49m\u001b[43mis_implant\u001b[49m\u001b[43m,\u001b[49m\u001b[43mdensity\u001b[49m\u001b[43m,\u001b[49m\u001b[43mremarks\u001b[49m\u001b[43m,\u001b[49m\u001b[43mconcavity_mean\u001b[49m\u001b[43m,\u001b[49m\u001b[43mconcavity_SE\u001b[49m\u001b[43m,\u001b[49m\u001b[43marea_mean\u001b[49m\u001b[43m,\u001b[49m\u001b[43marea_SE\u001b[49m\u001b[43m,\u001b[49m\u001b[43marea_worst\u001b[49m\u001b[43m,\u001b[49m\u001b[43msymmetry_mean\u001b[49m\u001b[43m,\u001b[49m\u001b[43mtexture_mean\u001b[49m\u001b[43m,\u001b[49m\u001b[43mdiagnosis\u001b[49m\u001b[43m,\u001b[49m\u001b[43mdate_of_closure\u001b[49m\u001b[43m)\u001b[49m\u001b[43m)\u001b[49m\n\u001b[1;32m    149\u001b[0m \u001b[38;5;28;01mreturn\u001b[39;00m currentUserEngine, currentUserCursor\n",
      "\u001b[0;31mNotNullViolation\u001b[0m: null value in column \"results\" of relation \"alldata\" violates not-null constraint\nDETAIL:  Failing row contains (isleftbreast, isimplant, density, remarks, concavitymean, concavityse, areamean, arease, areaworst, symmetrymean, texturemean, diagnosis, dateofclosure) = (t, f, A, Positive case, 123.456, 123.4567, 1.2345678, 12345.786, 9876.54321, 987.654, 123.789, positive, 2023-03-29 00:00:00).\n"
     ]
    }
   ],
   "source": [
    "patient1Details = {\n",
    "    \"is_left_breast\": True,\n",
    "    \"is_implant\": False,\n",
    "    \"density\": 'A',\n",
    "    \"remarks\": 'Positive case',\n",
    "    \"concavity_mean\": 123.456,\n",
    "    \"concavity_SE\": 123.4567,\n",
    "    \"area_mean\": 1.2345678,\n",
    "    \"area_SE\": 12345.786,\n",
    "    \"area_worst\": 9876.54321,\n",
    "    \"symmetry_mean\": 987.654,\n",
    "    \"texture_mean\": 123.789,\n",
    "    'diagnosis': 'positive',\n",
    "    'date_of_closure': datetime.date(2023, 3, 29)\n",
    "}\n",
    "\n",
    "newUser6 = \"Zane\"\n",
    "userPassword6 = \"ZaneDoctor6\"\n",
    "rdsDB.saveCloseCaseInDatabase(newUser6, userPassword6, **patient1Details)"
   ]
  },
  {
   "cell_type": "markdown",
   "id": "1ec77192",
   "metadata": {},
   "source": [
    "View All Data"
   ]
  },
  {
   "cell_type": "code",
   "execution_count": 13,
   "id": "a3a026a0",
   "metadata": {},
   "outputs": [],
   "source": [
    "sqlQuery = \"\"\"\n",
    "SELECT * FROM joint_table;\n",
    "\"\"\"\n",
    "rdsDB.masterCursor.execute(sqlQuery)"
   ]
  },
  {
   "cell_type": "code",
   "execution_count": 14,
   "id": "486330fa",
   "metadata": {},
   "outputs": [
    {
     "data": {
      "text/plain": [
       "[]"
      ]
     },
     "execution_count": 14,
     "metadata": {},
     "output_type": "execute_result"
    }
   ],
   "source": [
    "rdsDB.masterCursor.fetchall()"
   ]
  },
  {
   "cell_type": "code",
   "execution_count": null,
   "id": "5999c666",
   "metadata": {},
   "outputs": [],
   "source": []
  }
 ],
 "metadata": {
  "kernelspec": {
   "display_name": "Python 3 (ipykernel)",
   "language": "python",
   "name": "python3"
  },
  "language_info": {
   "codemirror_mode": {
    "name": "ipython",
    "version": 3
   },
   "file_extension": ".py",
   "mimetype": "text/x-python",
   "name": "python",
   "nbconvert_exporter": "python",
   "pygments_lexer": "ipython3",
   "version": "3.10.9"
  }
 },
 "nbformat": 4,
 "nbformat_minor": 5
}
