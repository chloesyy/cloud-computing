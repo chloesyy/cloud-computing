{
 "cells": [
  {
   "cell_type": "code",
   "execution_count": 1,
   "id": "bde01802",
   "metadata": {},
   "outputs": [],
   "source": [
    "from RDSdatabase import RDSdatabase\n",
    "import datetime"
   ]
  },
  {
   "cell_type": "code",
   "execution_count": 2,
   "id": "80da3a43",
   "metadata": {},
   "outputs": [],
   "source": [
    "masterUserName = \"masteruser\"\n",
    "masterPassword = \"hishmaster123\"\n",
    "host = \"hish-db-01.cfwyts8tlkjs.us-east-1.rds.amazonaws.com\"\n",
    "dbName = \"postgres\"\n",
    "postgresPort = 5432\n",
    "rdsDB = RDSdatabase(masterUserName,masterPassword,host,dbName,postgresPort)"
   ]
  },
  {
   "cell_type": "code",
   "execution_count": 4,
   "id": "ecf1bab0",
   "metadata": {},
   "outputs": [],
   "source": [
    "#initial config\n",
    "rdsDB.initialConfig()"
   ]
  },
  {
   "cell_type": "markdown",
   "id": "73ab70ea",
   "metadata": {},
   "source": [
    "Create New Organisation"
   ]
  },
  {
   "cell_type": "code",
   "execution_count": 6,
   "id": "20095efb",
   "metadata": {},
   "outputs": [],
   "source": [
    "newOrgName1 = \"WUV Healthcare\"\n",
    "rdsDB.createNewOrganisation(newOrgName1)"
   ]
  },
  {
   "cell_type": "markdown",
   "id": "bac2bc38",
   "metadata": {},
   "source": [
    "Create users under Organisation"
   ]
  },
  {
   "cell_type": "code",
   "execution_count": 7,
   "id": "20b47cf7",
   "metadata": {},
   "outputs": [],
   "source": [
    "newUser1 = \"Fred\"\n",
    "userPassword1 = \"FredDoctor1\"\n",
    "newOrgName1 = \"WUV Healthcare\"\n",
    "rdsDB.createNewUser(newUser1, userPassword1, newOrgName1)"
   ]
  },
  {
   "cell_type": "markdown",
   "id": "46be161d",
   "metadata": {},
   "source": [
    "View Tables"
   ]
  },
  {
   "cell_type": "code",
   "execution_count": 8,
   "id": "db78b7d1",
   "metadata": {},
   "outputs": [
    {
     "data": {
      "text/plain": [
       "([],\n",
       " <connection object at 0x7efbe99679c0; dsn: 'user=Fred password=xxx dbname=postgres host=hish-db-01.cfwyts8tlkjs.us-east-1.rds.amazonaws.com port=5432', closed: 0>,\n",
       " <cursor object at 0x7efbe9862020; closed: 0>)"
      ]
     },
     "execution_count": 8,
     "metadata": {},
     "output_type": "execute_result"
    }
   ],
   "source": [
    "newUser1 = \"Fred\"\n",
    "userPassword1 = \"FredDoctor1\"\n",
    "rdsDB.userViewTable(newUser1, userPassword1)"
   ]
  },
  {
   "cell_type": "code",
   "execution_count": 15,
   "id": "60104b8a",
   "metadata": {},
   "outputs": [
    {
     "data": {
      "text/plain": [
       "([('ABCDEFG',\n",
       "   'Cindy',\n",
       "   'Daisy',\n",
       "   datetime.datetime(1900, 3, 17, 0, 0),\n",
       "   datetime.datetime(2023, 3, 17, 0, 0),\n",
       "   17,\n",
       "   812344567,\n",
       "   True,\n",
       "   False,\n",
       "   'A',\n",
       "   'Positive case',\n",
       "   123.456,\n",
       "   123.4567,\n",
       "   123.456,\n",
       "   1.2345678,\n",
       "   12345.786,\n",
       "   9876.54321,\n",
       "   987.654,\n",
       "   123.789,\n",
       "   None,\n",
       "   None),\n",
       "  ('QWERTY',\n",
       "   'ABCD',\n",
       "   'EFGH',\n",
       "   datetime.datetime(1900, 3, 17, 0, 0),\n",
       "   datetime.datetime(2023, 3, 17, 0, 0),\n",
       "   17,\n",
       "   812344567,\n",
       "   True,\n",
       "   False,\n",
       "   'A',\n",
       "   'Positive case',\n",
       "   123.456,\n",
       "   123.4567,\n",
       "   123.456,\n",
       "   1.2345678,\n",
       "   12345.786,\n",
       "   9876.54321,\n",
       "   987.654,\n",
       "   123.789,\n",
       "   'positive',\n",
       "   datetime.datetime(2023, 3, 29, 0, 0))],\n",
       " <connection object at 0x7efbe9894e00; dsn: 'user=Fred password=xxx dbname=postgres host=hish-db-01.cfwyts8tlkjs.us-east-1.rds.amazonaws.com port=5432', closed: 0>,\n",
       " <cursor object at 0x7efbe98dd210; closed: 0>)"
      ]
     },
     "execution_count": 15,
     "metadata": {},
     "output_type": "execute_result"
    }
   ],
   "source": [
    "newUser1 = \"Fred\"\n",
    "userPassword1 = \"FredDoctor1\"\n",
    "rdsDB.userViewTable(newUser1, userPassword1)"
   ]
  },
  {
   "cell_type": "markdown",
   "id": "fd446b91",
   "metadata": {},
   "source": [
    "Remove User"
   ]
  },
  {
   "cell_type": "code",
   "execution_count": 4,
   "id": "1964d0ad",
   "metadata": {},
   "outputs": [],
   "source": [
    "rdsDB.removeUser(newUser1)"
   ]
  },
  {
   "cell_type": "code",
   "execution_count": 5,
   "id": "5583fe26",
   "metadata": {},
   "outputs": [
    {
     "ename": "OperationalError",
     "evalue": "FATAL:  password authentication failed for user \"Ella\"\nFATAL:  password authentication failed for user \"Ella\"\n",
     "output_type": "error",
     "traceback": [
      "\u001b[0;31m---------------------------------------------------------------------------\u001b[0m",
      "\u001b[0;31mOperationalError\u001b[0m                          Traceback (most recent call last)",
      "Cell \u001b[0;32mIn[5], line 1\u001b[0m\n\u001b[0;32m----> 1\u001b[0m \u001b[43mrdsDB\u001b[49m\u001b[38;5;241;43m.\u001b[39;49m\u001b[43muserViewTable\u001b[49m\u001b[43m(\u001b[49m\u001b[43mnewUser1\u001b[49m\u001b[43m,\u001b[49m\u001b[43m \u001b[49m\u001b[43muserPassword1\u001b[49m\u001b[43m)\u001b[49m\n",
      "File \u001b[0;32m~/RDSdatabase.py:127\u001b[0m, in \u001b[0;36mRDSdatabase.userViewTable\u001b[0;34m(self, userName, userPassword)\u001b[0m\n\u001b[1;32m    126\u001b[0m \u001b[38;5;28;01mdef\u001b[39;00m \u001b[38;5;21muserViewTable\u001b[39m(\u001b[38;5;28mself\u001b[39m, userName, userPassword):\n\u001b[0;32m--> 127\u001b[0m     currentUserEngine, currentUserCursor \u001b[38;5;241m=\u001b[39m \u001b[38;5;28;43mself\u001b[39;49m\u001b[38;5;241;43m.\u001b[39;49m\u001b[43muserSignIn\u001b[49m\u001b[43m(\u001b[49m\u001b[43muserName\u001b[49m\u001b[43m,\u001b[49m\u001b[43m \u001b[49m\u001b[43muserPassword\u001b[49m\u001b[43m)\u001b[49m\n\u001b[1;32m    128\u001b[0m     organisationName \u001b[38;5;241m=\u001b[39m \u001b[38;5;28mself\u001b[39m\u001b[38;5;241m.\u001b[39mfindOrganisationNameFromUserCredentials(userName, userPassword)\n\u001b[1;32m    129\u001b[0m     userTableName \u001b[38;5;241m=\u001b[39m \u001b[38;5;28mself\u001b[39m\u001b[38;5;241m.\u001b[39mmapOrganisationNameToTableName(organisationName)\n",
      "File \u001b[0;32m~/RDSdatabase.py:108\u001b[0m, in \u001b[0;36mRDSdatabase.userSignIn\u001b[0;34m(self, userName, userPassword)\u001b[0m\n\u001b[1;32m    107\u001b[0m \u001b[38;5;28;01mdef\u001b[39;00m \u001b[38;5;21muserSignIn\u001b[39m(\u001b[38;5;28mself\u001b[39m, userName, userPassword):\n\u001b[0;32m--> 108\u001b[0m     userEngine \u001b[38;5;241m=\u001b[39m \u001b[43mpsycopg2\u001b[49m\u001b[38;5;241;43m.\u001b[39;49m\u001b[43mconnect\u001b[49m\u001b[43m(\u001b[49m\n\u001b[1;32m    109\u001b[0m \u001b[43m        \u001b[49m\u001b[43mdatabase\u001b[49m\u001b[38;5;241;43m=\u001b[39;49m\u001b[38;5;28;43mself\u001b[39;49m\u001b[38;5;241;43m.\u001b[39;49m\u001b[43mdatabaseName\u001b[49m\u001b[43m,\u001b[49m\n\u001b[1;32m    110\u001b[0m \u001b[43m        \u001b[49m\u001b[43muser\u001b[49m\u001b[38;5;241;43m=\u001b[39;49m\u001b[43muserName\u001b[49m\u001b[43m,\u001b[49m\n\u001b[1;32m    111\u001b[0m \u001b[43m        \u001b[49m\u001b[43mpassword\u001b[49m\u001b[38;5;241;43m=\u001b[39;49m\u001b[43muserPassword\u001b[49m\u001b[43m,\u001b[49m\n\u001b[1;32m    112\u001b[0m \u001b[43m        \u001b[49m\u001b[43mhost\u001b[49m\u001b[38;5;241;43m=\u001b[39;49m\u001b[38;5;28;43mself\u001b[39;49m\u001b[38;5;241;43m.\u001b[39;49m\u001b[43mhostName\u001b[49m\u001b[43m,\u001b[49m\n\u001b[1;32m    113\u001b[0m \u001b[43m        \u001b[49m\u001b[43mport\u001b[49m\u001b[38;5;241;43m=\u001b[39;49m\u001b[38;5;28;43mself\u001b[39;49m\u001b[38;5;241;43m.\u001b[39;49m\u001b[43mportNum\u001b[49m\n\u001b[1;32m    114\u001b[0m \u001b[43m    \u001b[49m\u001b[43m)\u001b[49m\n\u001b[1;32m    116\u001b[0m     userCursor \u001b[38;5;241m=\u001b[39m userEngine\u001b[38;5;241m.\u001b[39mcursor()\n\u001b[1;32m    117\u001b[0m     userEngine\u001b[38;5;241m.\u001b[39mautocommit \u001b[38;5;241m=\u001b[39m \u001b[38;5;28;01mTrue\u001b[39;00m\n",
      "File \u001b[0;32m~/ENTER/lib/python3.10/site-packages/psycopg2/__init__.py:122\u001b[0m, in \u001b[0;36mconnect\u001b[0;34m(dsn, connection_factory, cursor_factory, **kwargs)\u001b[0m\n\u001b[1;32m    119\u001b[0m     kwasync[\u001b[38;5;124m'\u001b[39m\u001b[38;5;124masync_\u001b[39m\u001b[38;5;124m'\u001b[39m] \u001b[38;5;241m=\u001b[39m kwargs\u001b[38;5;241m.\u001b[39mpop(\u001b[38;5;124m'\u001b[39m\u001b[38;5;124masync_\u001b[39m\u001b[38;5;124m'\u001b[39m)\n\u001b[1;32m    121\u001b[0m dsn \u001b[38;5;241m=\u001b[39m _ext\u001b[38;5;241m.\u001b[39mmake_dsn(dsn, \u001b[38;5;241m*\u001b[39m\u001b[38;5;241m*\u001b[39mkwargs)\n\u001b[0;32m--> 122\u001b[0m conn \u001b[38;5;241m=\u001b[39m \u001b[43m_connect\u001b[49m\u001b[43m(\u001b[49m\u001b[43mdsn\u001b[49m\u001b[43m,\u001b[49m\u001b[43m \u001b[49m\u001b[43mconnection_factory\u001b[49m\u001b[38;5;241;43m=\u001b[39;49m\u001b[43mconnection_factory\u001b[49m\u001b[43m,\u001b[49m\u001b[43m \u001b[49m\u001b[38;5;241;43m*\u001b[39;49m\u001b[38;5;241;43m*\u001b[39;49m\u001b[43mkwasync\u001b[49m\u001b[43m)\u001b[49m\n\u001b[1;32m    123\u001b[0m \u001b[38;5;28;01mif\u001b[39;00m cursor_factory \u001b[38;5;129;01mis\u001b[39;00m \u001b[38;5;129;01mnot\u001b[39;00m \u001b[38;5;28;01mNone\u001b[39;00m:\n\u001b[1;32m    124\u001b[0m     conn\u001b[38;5;241m.\u001b[39mcursor_factory \u001b[38;5;241m=\u001b[39m cursor_factory\n",
      "\u001b[0;31mOperationalError\u001b[0m: FATAL:  password authentication failed for user \"Ella\"\nFATAL:  password authentication failed for user \"Ella\"\n"
     ]
    }
   ],
   "source": [
    "rdsDB.userViewTable(newUser1, userPassword1)"
   ]
  },
  {
   "cell_type": "markdown",
   "id": "c0f55eb8",
   "metadata": {},
   "source": [
    "Add Patient Data"
   ]
  },
  {
   "cell_type": "code",
   "execution_count": 9,
   "id": "99868e77",
   "metadata": {},
   "outputs": [
    {
     "data": {
      "text/plain": [
       "([('ABCDEFG',\n",
       "   'Cindy',\n",
       "   'Daisy',\n",
       "   datetime.datetime(1900, 3, 17, 0, 0),\n",
       "   datetime.datetime(2023, 3, 17, 0, 0),\n",
       "   17,\n",
       "   812344567,\n",
       "   True,\n",
       "   False,\n",
       "   'A',\n",
       "   'Positive case',\n",
       "   123.456,\n",
       "   123.4567,\n",
       "   123.456,\n",
       "   1.2345678,\n",
       "   12345.786,\n",
       "   9876.54321,\n",
       "   987.654,\n",
       "   123.789,\n",
       "   None,\n",
       "   None)],\n",
       " <connection object at 0x7efbe9967b00; dsn: 'user=Fred password=xxx dbname=postgres host=hish-db-01.cfwyts8tlkjs.us-east-1.rds.amazonaws.com port=5432', closed: 0>,\n",
       " <cursor object at 0x7efbe9861e40; closed: 0>)"
      ]
     },
     "execution_count": 9,
     "metadata": {},
     "output_type": "execute_result"
    }
   ],
   "source": [
    "patient1Details = {\n",
    "    \"patientID\": \"ABCDEFG\",\n",
    "    \"firstName\": \"Cindy\",\n",
    "    \"lastName\": \"Daisy\",\n",
    "    \"DOB\": datetime.date(1900, 3, 17),\n",
    "    \"date_of_service\": datetime.date(2023, 3, 17),\n",
    "    \"area_code\": 17,\n",
    "    \"phoneNum\": 812344567,\n",
    "    \"is_left_breast\": True,\n",
    "    \"is_implant\": False,\n",
    "    \"density\": 'A',\n",
    "    \"remarks\": 'Positive case',\n",
    "    \"concavity_mean\": 123.456,\n",
    "    \"concavity_SE\": 123.4567,\n",
    "    \"concavity_Worst\": 123.456,\n",
    "    \"area_mean\": 1.2345678,\n",
    "    \"area_SE\": 12345.786,\n",
    "    \"area_worst\": 9876.54321,\n",
    "    \"symmetry_mean\": 987.654,\n",
    "    \"texture_mean\": 123.789\n",
    "}\n",
    "\n",
    "newUser1 = \"Fred\"\n",
    "userPassword1 = \"FredDoctor1\"\n",
    "rdsDB.addPatientData(newUser1, userPassword1, **patient1Details)"
   ]
  },
  {
   "cell_type": "code",
   "execution_count": 10,
   "id": "14fd94d8",
   "metadata": {},
   "outputs": [
    {
     "data": {
      "text/plain": [
       "([('ABCDEFG',\n",
       "   'Cindy',\n",
       "   'Daisy',\n",
       "   datetime.datetime(1900, 3, 17, 0, 0),\n",
       "   datetime.datetime(2023, 3, 17, 0, 0),\n",
       "   17,\n",
       "   812344567,\n",
       "   True,\n",
       "   False,\n",
       "   'A',\n",
       "   'Positive case',\n",
       "   123.456,\n",
       "   123.4567,\n",
       "   123.456,\n",
       "   1.2345678,\n",
       "   12345.786,\n",
       "   9876.54321,\n",
       "   987.654,\n",
       "   123.789,\n",
       "   None,\n",
       "   None),\n",
       "  ('QWERTY',\n",
       "   'ABCD',\n",
       "   'EFGH',\n",
       "   datetime.datetime(1900, 3, 17, 0, 0),\n",
       "   datetime.datetime(2023, 3, 17, 0, 0),\n",
       "   17,\n",
       "   812344567,\n",
       "   True,\n",
       "   False,\n",
       "   'A',\n",
       "   'Positive case',\n",
       "   123.456,\n",
       "   123.4567,\n",
       "   123.456,\n",
       "   1.2345678,\n",
       "   12345.786,\n",
       "   9876.54321,\n",
       "   987.654,\n",
       "   123.789,\n",
       "   None,\n",
       "   None)],\n",
       " <connection object at 0x7efbe9967ec0; dsn: 'user=Fred password=xxx dbname=postgres host=hish-db-01.cfwyts8tlkjs.us-east-1.rds.amazonaws.com port=5432', closed: 0>,\n",
       " <cursor object at 0x7efbe9862200; closed: 0>)"
      ]
     },
     "execution_count": 10,
     "metadata": {},
     "output_type": "execute_result"
    }
   ],
   "source": [
    "patient2Details = {\n",
    "    \"patientID\": \"QWERTY\",\n",
    "    \"firstName\": \"ABCD\",\n",
    "    \"lastName\": \"EFGH\",\n",
    "    \"DOB\": datetime.date(1900, 3, 17),\n",
    "    \"date_of_service\": datetime.date(2023, 3, 17),\n",
    "    \"area_code\": 17,\n",
    "    \"phoneNum\": 812344567,\n",
    "    \"is_left_breast\": True,\n",
    "    \"is_implant\": False,\n",
    "    \"density\": 'A',\n",
    "    \"remarks\": 'Positive case',\n",
    "    \"concavity_mean\": 123.456,\n",
    "    \"concavity_SE\": 123.4567,\n",
    "    \"concavity_Worst\": 123.456,\n",
    "    \"area_mean\": 1.2345678,\n",
    "    \"area_SE\": 12345.786,\n",
    "    \"area_worst\": 9876.54321,\n",
    "    \"symmetry_mean\": 987.654,\n",
    "    \"texture_mean\": 123.789\n",
    "}\n",
    "\n",
    "newUser1 = \"Fred\"\n",
    "userPassword1 = \"FredDoctor1\"\n",
    "rdsDB.addPatientData(newUser1, userPassword1, **patient2Details)"
   ]
  },
  {
   "cell_type": "markdown",
   "id": "99ea6c55",
   "metadata": {},
   "source": [
    "Confirm Case"
   ]
  },
  {
   "cell_type": "code",
   "execution_count": 12,
   "id": "670486e9",
   "metadata": {},
   "outputs": [
    {
     "data": {
      "text/plain": [
       "(<connection object at 0x7efbe9894cc0; dsn: 'user=Fred password=xxx dbname=postgres host=hish-db-01.cfwyts8tlkjs.us-east-1.rds.amazonaws.com port=5432', closed: 0>,\n",
       " <cursor object at 0x7efbe98dcf40; closed: 0>)"
      ]
     },
     "execution_count": 12,
     "metadata": {},
     "output_type": "execute_result"
    }
   ],
   "source": [
    "patient1Details = {\n",
    "    \"patientID\": \"QWERTY\",\n",
    "    'diagnosis': 'positive',\n",
    "    'date_of_closure': datetime.date(2023, 3, 29)\n",
    "}\n",
    "\n",
    "newUser1 = \"Fred\"\n",
    "userPassword1 = \"FredDoctor1\"\n",
    "rdsDB.updateDiagnosis(newUser1, userPassword1, **patient1Details)"
   ]
  },
  {
   "cell_type": "markdown",
   "id": "1ec77192",
   "metadata": {},
   "source": [
    "View All Data"
   ]
  },
  {
   "cell_type": "code",
   "execution_count": 13,
   "id": "a3a026a0",
   "metadata": {},
   "outputs": [],
   "source": [
    "sqlQuery = \"\"\"\n",
    "SELECT * FROM joint_table;\n",
    "\"\"\"\n",
    "rdsDB.masterCursor.execute(sqlQuery)"
   ]
  },
  {
   "cell_type": "code",
   "execution_count": 14,
   "id": "486330fa",
   "metadata": {},
   "outputs": [
    {
     "data": {
      "text/plain": [
       "[(1,\n",
       "  True,\n",
       "  False,\n",
       "  'A',\n",
       "  'Positive case',\n",
       "  123.456,\n",
       "  123.4567,\n",
       "  123.456,\n",
       "  1.2345678,\n",
       "  12345.786,\n",
       "  9876.54321,\n",
       "  987.654,\n",
       "  123.789,\n",
       "  'positive',\n",
       "  datetime.datetime(2023, 3, 29, 0, 0))]"
      ]
     },
     "execution_count": 14,
     "metadata": {},
     "output_type": "execute_result"
    }
   ],
   "source": [
    "rdsDB.masterCursor.fetchall()"
   ]
  },
  {
   "cell_type": "markdown",
   "id": "854d3ac2",
   "metadata": {},
   "source": [
    "***For testing purposes: Delete tables and restart***"
   ]
  },
  {
   "cell_type": "code",
   "execution_count": 3,
   "id": "e69b66a8",
   "metadata": {},
   "outputs": [],
   "source": [
    "sqlQuery = \"\"\"\n",
    "DROP TABLE joint_table,userDetails;\n",
    "\"\"\"\n",
    "rdsDB.masterCursor.execute(sqlQuery)"
   ]
  },
  {
   "cell_type": "code",
   "execution_count": null,
   "id": "178e3b72",
   "metadata": {},
   "outputs": [],
   "source": []
  }
 ],
 "metadata": {
  "kernelspec": {
   "display_name": "Python 3 (ipykernel)",
   "language": "python",
   "name": "python3"
  },
  "language_info": {
   "codemirror_mode": {
    "name": "ipython",
    "version": 3
   },
   "file_extension": ".py",
   "mimetype": "text/x-python",
   "name": "python",
   "nbconvert_exporter": "python",
   "pygments_lexer": "ipython3",
   "version": "3.10.9"
  }
 },
 "nbformat": 4,
 "nbformat_minor": 5
}
