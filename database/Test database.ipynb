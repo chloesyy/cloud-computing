{
 "cells": [
  {
   "cell_type": "code",
   "execution_count": 1,
   "id": "bde01802",
   "metadata": {},
   "outputs": [],
   "source": [
    "from RDSdatabase import RDSdatabase\n",
    "import datetime"
   ]
  },
  {
   "cell_type": "code",
   "execution_count": 2,
   "id": "80da3a43",
   "metadata": {},
   "outputs": [],
   "source": [
    "masterUserName = \"masteruser\"\n",
    "masterPassword = \"hishmaster123\"\n",
    "host = \"hish-db-01.cfwyts8tlkjs.us-east-1.rds.amazonaws.com\"\n",
    "dbName = \"postgres\"\n",
    "postgresPort = 5432\n",
    "rdsDB = RDSdatabase(masterUserName,masterPassword,host,dbName,postgresPort)"
   ]
  },
  {
   "cell_type": "code",
   "execution_count": 3,
   "id": "ecf1bab0",
   "metadata": {},
   "outputs": [],
   "source": [
    "#initial config\n",
    "rdsDB.initialConfig()"
   ]
  },
  {
   "cell_type": "markdown",
   "id": "73ab70ea",
   "metadata": {},
   "source": [
    "Create New Organisation"
   ]
  },
  {
   "cell_type": "code",
   "execution_count": 4,
   "id": "20095efb",
   "metadata": {},
   "outputs": [],
   "source": [
    "newOrgName1 = \"ABC Healthcare\"\n",
    "rdsDB.createNewOrganisation(newOrgName1)"
   ]
  },
  {
   "cell_type": "code",
   "execution_count": 3,
   "id": "2f88436c",
   "metadata": {},
   "outputs": [],
   "source": [
    "newOrgName2 = \"GHI Healthcare\"\n",
    "rdsDB.createNewOrganisation(newOrgName2)"
   ]
  },
  {
   "cell_type": "code",
   "execution_count": 3,
   "id": "74afe51c",
   "metadata": {},
   "outputs": [],
   "source": [
    "newOrgName3 = \"JKL Healthcare\"\n",
    "rdsDB.createNewOrganisation(newOrgName3)"
   ]
  },
  {
   "cell_type": "code",
   "execution_count": 3,
   "id": "1ff5ce59",
   "metadata": {},
   "outputs": [],
   "source": [
    "newOrgName4 = \"XYZ Healthcare\"\n",
    "rdsDB.createNewOrganisation(newOrgName4)"
   ]
  },
  {
   "cell_type": "markdown",
   "id": "bac2bc38",
   "metadata": {},
   "source": [
    "Create users under Organisation"
   ]
  },
  {
   "cell_type": "code",
   "execution_count": 5,
   "id": "20b47cf7",
   "metadata": {},
   "outputs": [],
   "source": [
    "newUser1 = \"Alan\"\n",
    "userPassword1 = \"AlanDoctor1\"\n",
    "rdsDB.createNewUser(newUser1, userPassword1, newOrgName1)"
   ]
  },
  {
   "cell_type": "code",
   "execution_count": 6,
   "id": "dfa236f8",
   "metadata": {},
   "outputs": [],
   "source": [
    "newUser2 = \"Bob\"\n",
    "userPassword2 = \"BobDoctor2\"\n",
    "rdsDB.createNewUser(newUser2, userPassword2, newOrgName1)"
   ]
  },
  {
   "cell_type": "code",
   "execution_count": 4,
   "id": "5652dfad",
   "metadata": {},
   "outputs": [],
   "source": [
    "newUser3 = \"Ella\"\n",
    "userPassword3 = \"EllaDoctor3\"\n",
    "rdsDB.createNewUser(newUser3, userPassword3, newOrgName2)"
   ]
  },
  {
   "cell_type": "code",
   "execution_count": 5,
   "id": "db98ed61",
   "metadata": {},
   "outputs": [],
   "source": [
    "newUser4 = \"Dan\"\n",
    "userPassword4 = \"DanDoctor4\"\n",
    "rdsDB.createNewUser(newUser4, userPassword4, newOrgName3)"
   ]
  },
  {
   "cell_type": "code",
   "execution_count": 4,
   "id": "bfd828db",
   "metadata": {},
   "outputs": [],
   "source": [
    "newUser5 = \"Fed\"\n",
    "userPassword5 = \"FedDoctor4\"\n",
    "rdsDB.createNewUser(newUser5, userPassword5, newOrgName4)"
   ]
  },
  {
   "cell_type": "markdown",
   "id": "46be161d",
   "metadata": {},
   "source": [
    "View Tables"
   ]
  },
  {
   "cell_type": "code",
   "execution_count": 5,
   "id": "db78b7d1",
   "metadata": {},
   "outputs": [
    {
     "data": {
      "text/plain": [
       "([],\n",
       " <connection object at 0x7ff48f766d40; dsn: 'user=Alan password=xxx dbname=postgres host=hish-db-01.cfwyts8tlkjs.us-east-1.rds.amazonaws.com port=5432', closed: 0>,\n",
       " <cursor object at 0x7ff48f7f15d0; closed: 0>)"
      ]
     },
     "execution_count": 5,
     "metadata": {},
     "output_type": "execute_result"
    }
   ],
   "source": [
    "newUser1 = \"Alan\"\n",
    "userPassword1 = \"AlanDoctor1\"\n",
    "newOrgName1 = \"ABC Healthcare\"\n",
    "rdsDB.userViewTable(newUser1, userPassword1, newOrgName1)"
   ]
  },
  {
   "cell_type": "code",
   "execution_count": 6,
   "id": "33f8c064",
   "metadata": {},
   "outputs": [
    {
     "data": {
      "text/plain": [
       "([],\n",
       " <connection object at 0x7ff48f766c00; dsn: 'user=Bob password=xxx dbname=postgres host=hish-db-01.cfwyts8tlkjs.us-east-1.rds.amazonaws.com port=5432', closed: 0>,\n",
       " <cursor object at 0x7ff48f7f18a0; closed: 0>)"
      ]
     },
     "execution_count": 6,
     "metadata": {},
     "output_type": "execute_result"
    }
   ],
   "source": [
    "newUser2 = \"Bob\"\n",
    "userPassword2 = \"BobDoctor2\"\n",
    "newOrgName1 = \"ABC Healthcare\"\n",
    "rdsDB.userViewTable(newUser2, userPassword2, newOrgName1)"
   ]
  },
  {
   "cell_type": "code",
   "execution_count": 4,
   "id": "bb927d60",
   "metadata": {},
   "outputs": [
    {
     "data": {
      "text/plain": [
       "([],\n",
       " <connection object at 0x7fd72e1fbec0; dsn: 'user=Ella password=xxx dbname=postgres host=hish-db-01.cfwyts8tlkjs.us-east-1.rds.amazonaws.com port=5432', closed: 0>,\n",
       " <cursor object at 0x7fd72e0cdb70; closed: 0>)"
      ]
     },
     "execution_count": 4,
     "metadata": {},
     "output_type": "execute_result"
    }
   ],
   "source": [
    "newUser3 = \"Ella\"\n",
    "userPassword3 = \"EllaDoctor3\"\n",
    "newOrgName2 = \"GHI Healthcare\"\n",
    "rdsDB.userViewTable(newUser3, userPassword3, newOrgName2)"
   ]
  },
  {
   "cell_type": "code",
   "execution_count": 6,
   "id": "2967016b",
   "metadata": {},
   "outputs": [
    {
     "data": {
      "text/plain": [
       "([],\n",
       " <connection object at 0x7fb33e2f2980; dsn: 'user=Dan password=xxx dbname=postgres host=hish-db-01.cfwyts8tlkjs.us-east-1.rds.amazonaws.com port=5432', closed: 0>,\n",
       " <cursor object at 0x7fb33e3749a0; closed: 0>)"
      ]
     },
     "execution_count": 6,
     "metadata": {},
     "output_type": "execute_result"
    }
   ],
   "source": [
    "newUser4 = \"Dan\"\n",
    "userPassword4 = \"DanDoctor4\"\n",
    "newOrgName3 = \"JKL Healthcare\"\n",
    "rdsDB.userViewTable(newUser4, userPassword4, newOrgName3)"
   ]
  },
  {
   "cell_type": "code",
   "execution_count": 4,
   "id": "591bbeaa",
   "metadata": {},
   "outputs": [
    {
     "data": {
      "text/plain": [
       "([(1,\n",
       "   'Cindy',\n",
       "   'Daisy',\n",
       "   datetime.datetime(1900, 3, 17, 0, 0),\n",
       "   datetime.datetime(2023, 3, 17, 0, 0),\n",
       "   17,\n",
       "   812344567,\n",
       "   True,\n",
       "   False,\n",
       "   'A',\n",
       "   'Positive case',\n",
       "   123.456,\n",
       "   123.4567,\n",
       "   1.2345678,\n",
       "   12345.786,\n",
       "   9876.54321,\n",
       "   987.654,\n",
       "   123.789,\n",
       "   None,\n",
       "   'positive',\n",
       "   None,\n",
       "   None),\n",
       "  (2,\n",
       "   'Cindy',\n",
       "   'Daisy',\n",
       "   datetime.datetime(1900, 3, 17, 0, 0),\n",
       "   datetime.datetime(2023, 3, 17, 0, 0),\n",
       "   17,\n",
       "   812344567,\n",
       "   True,\n",
       "   False,\n",
       "   'A',\n",
       "   'Positive case',\n",
       "   123.456,\n",
       "   123.4567,\n",
       "   1.2345678,\n",
       "   12345.786,\n",
       "   9876.54321,\n",
       "   987.654,\n",
       "   123.789,\n",
       "   None,\n",
       "   'positive',\n",
       "   None,\n",
       "   None)],\n",
       " <connection object at 0x7fdda4049f80; dsn: 'user=Fed password=xxx dbname=postgres host=hish-db-01.cfwyts8tlkjs.us-east-1.rds.amazonaws.com port=5432', closed: 0>,\n",
       " <cursor object at 0x7fdda408de40; closed: 0>)"
      ]
     },
     "execution_count": 4,
     "metadata": {},
     "output_type": "execute_result"
    }
   ],
   "source": [
    "newUser5 = \"Fed\"\n",
    "userPassword5 = \"FedDoctor4\"\n",
    "newOrgName4 = \"XYZ Healthcare\"\n",
    "rdsDB.userViewTable(newUser5, userPassword5, newOrgName4)"
   ]
  },
  {
   "cell_type": "markdown",
   "id": "fd446b91",
   "metadata": {},
   "source": [
    "Remove User"
   ]
  },
  {
   "cell_type": "code",
   "execution_count": 7,
   "id": "1964d0ad",
   "metadata": {},
   "outputs": [],
   "source": [
    "rdsDB.removeUser(newUser1)"
   ]
  },
  {
   "cell_type": "code",
   "execution_count": 8,
   "id": "5583fe26",
   "metadata": {},
   "outputs": [
    {
     "ename": "OperationalError",
     "evalue": "FATAL:  password authentication failed for user \"Alan\"\nFATAL:  password authentication failed for user \"Alan\"\n",
     "output_type": "error",
     "traceback": [
      "\u001b[0;31m---------------------------------------------------------------------------\u001b[0m",
      "\u001b[0;31mOperationalError\u001b[0m                          Traceback (most recent call last)",
      "Cell \u001b[0;32mIn[8], line 1\u001b[0m\n\u001b[0;32m----> 1\u001b[0m \u001b[43mrdsDB\u001b[49m\u001b[38;5;241;43m.\u001b[39;49m\u001b[43muserViewTable\u001b[49m\u001b[43m(\u001b[49m\u001b[43mnewUser1\u001b[49m\u001b[43m,\u001b[49m\u001b[43m \u001b[49m\u001b[43muserPassword1\u001b[49m\u001b[43m,\u001b[49m\u001b[43m \u001b[49m\u001b[43mnewOrgName1\u001b[49m\u001b[43m)\u001b[49m\n",
      "File \u001b[0;32m~/RDSdatabase.py:85\u001b[0m, in \u001b[0;36mRDSdatabase.userViewTable\u001b[0;34m(self, userName, userPassword, organisationName)\u001b[0m\n\u001b[1;32m     84\u001b[0m \u001b[38;5;28;01mdef\u001b[39;00m \u001b[38;5;21muserViewTable\u001b[39m(\u001b[38;5;28mself\u001b[39m, userName, userPassword, organisationName):\n\u001b[0;32m---> 85\u001b[0m     currentUserEngine, currentUserCursor \u001b[38;5;241m=\u001b[39m \u001b[38;5;28;43mself\u001b[39;49m\u001b[38;5;241;43m.\u001b[39;49m\u001b[43muserSignIn\u001b[49m\u001b[43m(\u001b[49m\u001b[43muserName\u001b[49m\u001b[43m,\u001b[49m\u001b[43m \u001b[49m\u001b[43muserPassword\u001b[49m\u001b[43m)\u001b[49m\n\u001b[1;32m     86\u001b[0m     userTableName \u001b[38;5;241m=\u001b[39m \u001b[38;5;28mself\u001b[39m\u001b[38;5;241m.\u001b[39mmapOrganisationNameToTableName(organisationName)\n\u001b[1;32m     87\u001b[0m     currentUserCursor\u001b[38;5;241m.\u001b[39mexecute(sql\u001b[38;5;241m.\u001b[39mSQL(\u001b[38;5;124m\"\u001b[39m\u001b[38;5;124mSELECT * FROM \u001b[39m\u001b[38;5;132;01m{table}\u001b[39;00m\u001b[38;5;124m;\u001b[39m\u001b[38;5;124m\"\u001b[39m)\u001b[38;5;241m.\u001b[39mformat(table\u001b[38;5;241m=\u001b[39msql\u001b[38;5;241m.\u001b[39mIdentifier(userTableName)))\n",
      "File \u001b[0;32m~/RDSdatabase.py:72\u001b[0m, in \u001b[0;36mRDSdatabase.userSignIn\u001b[0;34m(self, userName, userPassword)\u001b[0m\n\u001b[1;32m     71\u001b[0m \u001b[38;5;28;01mdef\u001b[39;00m \u001b[38;5;21muserSignIn\u001b[39m(\u001b[38;5;28mself\u001b[39m, userName, userPassword):\n\u001b[0;32m---> 72\u001b[0m     userEngine \u001b[38;5;241m=\u001b[39m \u001b[43mpsycopg2\u001b[49m\u001b[38;5;241;43m.\u001b[39;49m\u001b[43mconnect\u001b[49m\u001b[43m(\u001b[49m\n\u001b[1;32m     73\u001b[0m \u001b[43m        \u001b[49m\u001b[43mdatabase\u001b[49m\u001b[38;5;241;43m=\u001b[39;49m\u001b[38;5;28;43mself\u001b[39;49m\u001b[38;5;241;43m.\u001b[39;49m\u001b[43mdatabaseName\u001b[49m\u001b[43m,\u001b[49m\n\u001b[1;32m     74\u001b[0m \u001b[43m        \u001b[49m\u001b[43muser\u001b[49m\u001b[38;5;241;43m=\u001b[39;49m\u001b[43muserName\u001b[49m\u001b[43m,\u001b[49m\n\u001b[1;32m     75\u001b[0m \u001b[43m        \u001b[49m\u001b[43mpassword\u001b[49m\u001b[38;5;241;43m=\u001b[39;49m\u001b[43muserPassword\u001b[49m\u001b[43m,\u001b[49m\n\u001b[1;32m     76\u001b[0m \u001b[43m        \u001b[49m\u001b[43mhost\u001b[49m\u001b[38;5;241;43m=\u001b[39;49m\u001b[38;5;28;43mself\u001b[39;49m\u001b[38;5;241;43m.\u001b[39;49m\u001b[43mhostName\u001b[49m\u001b[43m,\u001b[49m\n\u001b[1;32m     77\u001b[0m \u001b[43m        \u001b[49m\u001b[43mport\u001b[49m\u001b[38;5;241;43m=\u001b[39;49m\u001b[38;5;28;43mself\u001b[39;49m\u001b[38;5;241;43m.\u001b[39;49m\u001b[43mportNum\u001b[49m\n\u001b[1;32m     78\u001b[0m \u001b[43m    \u001b[49m\u001b[43m)\u001b[49m\n\u001b[1;32m     80\u001b[0m     userCursor \u001b[38;5;241m=\u001b[39m userEngine\u001b[38;5;241m.\u001b[39mcursor()\n\u001b[1;32m     81\u001b[0m     userEngine\u001b[38;5;241m.\u001b[39mautocommit \u001b[38;5;241m=\u001b[39m \u001b[38;5;28;01mTrue\u001b[39;00m\n",
      "File \u001b[0;32m~/ENTER/lib/python3.10/site-packages/psycopg2/__init__.py:122\u001b[0m, in \u001b[0;36mconnect\u001b[0;34m(dsn, connection_factory, cursor_factory, **kwargs)\u001b[0m\n\u001b[1;32m    119\u001b[0m     kwasync[\u001b[38;5;124m'\u001b[39m\u001b[38;5;124masync_\u001b[39m\u001b[38;5;124m'\u001b[39m] \u001b[38;5;241m=\u001b[39m kwargs\u001b[38;5;241m.\u001b[39mpop(\u001b[38;5;124m'\u001b[39m\u001b[38;5;124masync_\u001b[39m\u001b[38;5;124m'\u001b[39m)\n\u001b[1;32m    121\u001b[0m dsn \u001b[38;5;241m=\u001b[39m _ext\u001b[38;5;241m.\u001b[39mmake_dsn(dsn, \u001b[38;5;241m*\u001b[39m\u001b[38;5;241m*\u001b[39mkwargs)\n\u001b[0;32m--> 122\u001b[0m conn \u001b[38;5;241m=\u001b[39m \u001b[43m_connect\u001b[49m\u001b[43m(\u001b[49m\u001b[43mdsn\u001b[49m\u001b[43m,\u001b[49m\u001b[43m \u001b[49m\u001b[43mconnection_factory\u001b[49m\u001b[38;5;241;43m=\u001b[39;49m\u001b[43mconnection_factory\u001b[49m\u001b[43m,\u001b[49m\u001b[43m \u001b[49m\u001b[38;5;241;43m*\u001b[39;49m\u001b[38;5;241;43m*\u001b[39;49m\u001b[43mkwasync\u001b[49m\u001b[43m)\u001b[49m\n\u001b[1;32m    123\u001b[0m \u001b[38;5;28;01mif\u001b[39;00m cursor_factory \u001b[38;5;129;01mis\u001b[39;00m \u001b[38;5;129;01mnot\u001b[39;00m \u001b[38;5;28;01mNone\u001b[39;00m:\n\u001b[1;32m    124\u001b[0m     conn\u001b[38;5;241m.\u001b[39mcursor_factory \u001b[38;5;241m=\u001b[39m cursor_factory\n",
      "\u001b[0;31mOperationalError\u001b[0m: FATAL:  password authentication failed for user \"Alan\"\nFATAL:  password authentication failed for user \"Alan\"\n"
     ]
    }
   ],
   "source": [
    "rdsDB.userViewTable(newUser1, userPassword1, newOrgName1)"
   ]
  },
  {
   "cell_type": "markdown",
   "id": "c0f55eb8",
   "metadata": {},
   "source": [
    "Add Patient Data"
   ]
  },
  {
   "cell_type": "code",
   "execution_count": 3,
   "id": "99868e77",
   "metadata": {},
   "outputs": [
    {
     "data": {
      "text/plain": [
       "([(1,\n",
       "   'Cindy',\n",
       "   'Daisy',\n",
       "   datetime.datetime(1900, 3, 17, 0, 0),\n",
       "   datetime.datetime(2023, 3, 17, 0, 0),\n",
       "   17,\n",
       "   812344567,\n",
       "   True,\n",
       "   False,\n",
       "   'A',\n",
       "   'Positive case',\n",
       "   123.456,\n",
       "   123.4567,\n",
       "   1.2345678,\n",
       "   12345.786,\n",
       "   9876.54321,\n",
       "   987.654,\n",
       "   123.789,\n",
       "   None,\n",
       "   'positive',\n",
       "   None,\n",
       "   None),\n",
       "  (2,\n",
       "   'Cindy',\n",
       "   'Daisy',\n",
       "   datetime.datetime(1900, 3, 17, 0, 0),\n",
       "   datetime.datetime(2023, 3, 17, 0, 0),\n",
       "   17,\n",
       "   812344567,\n",
       "   True,\n",
       "   False,\n",
       "   'A',\n",
       "   'Positive case',\n",
       "   123.456,\n",
       "   123.4567,\n",
       "   1.2345678,\n",
       "   12345.786,\n",
       "   9876.54321,\n",
       "   987.654,\n",
       "   123.789,\n",
       "   None,\n",
       "   'positive',\n",
       "   None,\n",
       "   None)],\n",
       " <connection object at 0x7fdda4049e40; dsn: 'user=Fed password=xxx dbname=postgres host=hish-db-01.cfwyts8tlkjs.us-east-1.rds.amazonaws.com port=5432', closed: 0>,\n",
       " <cursor object at 0x7fdda408dd50; closed: 0>)"
      ]
     },
     "execution_count": 3,
     "metadata": {},
     "output_type": "execute_result"
    }
   ],
   "source": [
    "patient1Details = {\n",
    "    \"firstName\": \"Cindy\",\n",
    "    \"lastName\": \"Daisy\",\n",
    "    \"DOB\": datetime.date(1900, 3, 17),\n",
    "    \"date_of_service\": datetime.date(2023, 3, 17),\n",
    "    \"area_code\": 17,\n",
    "    \"phoneNum\": 812344567,\n",
    "    \"is_left_breast\": True,\n",
    "    \"is_implant\": False,\n",
    "    \"density\": 'A',\n",
    "    \"remarks\": 'Positive case',\n",
    "    \"concavity_mean\": 123.456,\n",
    "    \"concavity_SE\": 123.4567,\n",
    "    \"area_mean\": 1.2345678,\n",
    "    \"area_SE\": 12345.786,\n",
    "    \"area_worst\": 9876.54321,\n",
    "    \"symmetry_mean\": 987.654,\n",
    "    \"texture_mean\": 123.789,\n",
    "    \"results\": 'positive'\n",
    "}\n",
    "\n",
    "newUser5 = \"Fed\"\n",
    "userPassword5 = \"FedDoctor4\"\n",
    "newOrgName4 = \"XYZ Healthcare\"\n",
    "rdsDB.addPatientData(newUser5, userPassword5, newOrgName4, **patient1Details)"
   ]
  },
  {
   "cell_type": "code",
   "execution_count": null,
   "id": "14fd94d8",
   "metadata": {},
   "outputs": [],
   "source": []
  }
 ],
 "metadata": {
  "kernelspec": {
   "display_name": "Python 3 (ipykernel)",
   "language": "python",
   "name": "python3"
  },
  "language_info": {
   "codemirror_mode": {
    "name": "ipython",
    "version": 3
   },
   "file_extension": ".py",
   "mimetype": "text/x-python",
   "name": "python",
   "nbconvert_exporter": "python",
   "pygments_lexer": "ipython3",
   "version": "3.10.9"
  }
 },
 "nbformat": 4,
 "nbformat_minor": 5
}
