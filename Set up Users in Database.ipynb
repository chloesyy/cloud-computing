{
 "cells": [
  {
   "cell_type": "code",
   "execution_count": 1,
   "id": "a78a09dd",
   "metadata": {},
   "outputs": [],
   "source": [
    "import psycopg2\n",
    "from psycopg2 import sql\n",
    "import datetime"
   ]
  },
  {
   "cell_type": "code",
   "execution_count": 2,
   "id": "267b649d",
   "metadata": {},
   "outputs": [],
   "source": [
    "hostName = \"hish-db-01.cfwyts8tlkjs.us-east-1.rds.amazonaws.com\""
   ]
  },
  {
   "cell_type": "code",
   "execution_count": 3,
   "id": "7d5673f8",
   "metadata": {},
   "outputs": [],
   "source": [
    "engine = psycopg2.connect(\n",
    "    database=\"postgres\",\n",
    "    user=\"masteruser\",\n",
    "    password=\"hishmaster123\",\n",
    "    host=hostName,\n",
    "    port='5432'\n",
    ")"
   ]
  },
  {
   "cell_type": "code",
   "execution_count": 4,
   "id": "bbc20ea1",
   "metadata": {},
   "outputs": [],
   "source": [
    "cur = engine.cursor()"
   ]
  },
  {
   "cell_type": "code",
   "execution_count": 5,
   "id": "64dc5d96",
   "metadata": {},
   "outputs": [],
   "source": [
    "engine.autocommit = True"
   ]
  },
  {
   "cell_type": "markdown",
   "id": "8a3fc4f8",
   "metadata": {},
   "source": [
    "Create New User"
   ]
  },
  {
   "cell_type": "code",
   "execution_count": 7,
   "id": "769f2d98",
   "metadata": {},
   "outputs": [],
   "source": [
    "def createNewUser(userName, userPassword):\n",
    "    \n",
    "    newTableName = f\"{userName}Data\"\n",
    "    \n",
    "    sqlQuery = sql.SQL(\"\"\"\n",
    "    CREATE ROLE {role} WITH LOGIN PASSWORD %s;\n",
    "    GRANT CONNECT ON DATABASE postgres TO {role};\n",
    "\n",
    "    CREATE TABLE {table} (\n",
    "    patientID INT PRIMARY KEY,\n",
    "    date TIMESTAMP NOT NULL,\n",
    "    condition VARCHAR ( 50 ) NOT NULL\n",
    "    );\n",
    "\n",
    "    GRANT SELECT, INSERT, UPDATE, DELETE ON TABLE {table} TO {role};\n",
    "    \"\"\").format(\n",
    "            role=sql.Identifier(userName),\n",
    "            table=sql.Identifier(newTableName),\n",
    "    )\n",
    "    cur.execute(sqlQuery, (userPassword,))\n",
    "    "
   ]
  },
  {
   "cell_type": "code",
   "execution_count": 7,
   "id": "78f869db",
   "metadata": {},
   "outputs": [],
   "source": [
    "newUserName1 = \"user1\"\n",
    "newUserPassword1 = \"t123456\"\n",
    "createNewUser(newUserName, newUserPassword)"
   ]
  },
  {
   "cell_type": "code",
   "execution_count": 8,
   "id": "fb6fca0e",
   "metadata": {},
   "outputs": [],
   "source": [
    "newUserName3 = \"user3\"\n",
    "newUserPassword3 = \"t123456\"\n",
    "createNewUser(newUserName3, newUserPassword3)"
   ]
  },
  {
   "cell_type": "code",
   "execution_count": 9,
   "id": "23bdf50a",
   "metadata": {},
   "outputs": [],
   "source": [
    "engine.close()"
   ]
  },
  {
   "cell_type": "markdown",
   "id": "6f6433b1",
   "metadata": {},
   "source": [
    "Sign in and view table"
   ]
  },
  {
   "cell_type": "code",
   "execution_count": 10,
   "id": "fef0d802",
   "metadata": {},
   "outputs": [],
   "source": [
    "def userSignIn(userName, userPassword):\n",
    "    user_engine = psycopg2.connect(\n",
    "        database=\"postgres\",\n",
    "        user=userName,\n",
    "        password=userPassword,\n",
    "        host=hostName,\n",
    "        port='5432'\n",
    "    )\n",
    "    \n",
    "    user_cur = user_engine.cursor()\n",
    "    user_engine.autocommit = True\n",
    "    \n",
    "    userTableName = f\"{userName}Data\"\n",
    "    user_cur.execute(sql.SQL(\"SELECT * FROM {table}\").format(table=sql.Identifier(userTableName)))\n",
    "    print(user_cur.fetchall())\n",
    "    \n",
    "    return user_engine, user_cur"
   ]
  },
  {
   "cell_type": "code",
   "execution_count": 11,
   "id": "b67ac7f1",
   "metadata": {},
   "outputs": [
    {
     "name": "stdout",
     "output_type": "stream",
     "text": [
      "[(1, datetime.datetime(2023, 3, 17, 0, 0), 'Negative')]\n"
     ]
    }
   ],
   "source": [
    "newUserName1 = \"user1\"\n",
    "newUserPassword1 = \"t123456\"\n",
    "user_signin_engine, user_signin_cur = userSignIn(newUserName1, newUserPassword1)"
   ]
  },
  {
   "cell_type": "code",
   "execution_count": 12,
   "id": "19030754",
   "metadata": {},
   "outputs": [
    {
     "name": "stdout",
     "output_type": "stream",
     "text": [
      "[]\n"
     ]
    }
   ],
   "source": [
    "user_signin_engine, user_signin_cur = userSignIn(newUserName3, newUserPassword3)"
   ]
  },
  {
   "cell_type": "code",
   "execution_count": 13,
   "id": "b58de5c6",
   "metadata": {},
   "outputs": [],
   "source": [
    "user_signin_engine.close()"
   ]
  },
  {
   "cell_type": "markdown",
   "id": "4884b26a",
   "metadata": {},
   "source": [
    "Insert table and view update"
   ]
  },
  {
   "cell_type": "code",
   "execution_count": 14,
   "id": "00ad467f",
   "metadata": {},
   "outputs": [],
   "source": [
    "def userAddData(userName, userPassword, newPatientID, newPatientDate, newPatientCondition):\n",
    "    user_engine = psycopg2.connect(\n",
    "        database=\"postgres\",\n",
    "        user=userName,\n",
    "        password=userPassword,\n",
    "        host=hostName,\n",
    "        port='5432'\n",
    "    )\n",
    "    \n",
    "    user_cur = user_engine.cursor()\n",
    "    user_engine.autocommit = True\n",
    "    \n",
    "    userTableName = f\"{userName}Data\"\n",
    "    \n",
    "    sqlQuery = sql.SQL(\"\"\"\n",
    "    INSERT INTO {table} VALUES (%s, %s, %s); \n",
    "    SELECT * FROM {table}\n",
    "    \"\"\").format(table=sql.Identifier(userTableName))\n",
    "    \n",
    "    user_cur.execute(sqlQuery, (newPatientID, newPatientDate, newPatientCondition))\n",
    "    print(user_cur.fetchall())\n",
    "    \n",
    "    return user_engine, user_cur"
   ]
  },
  {
   "cell_type": "code",
   "execution_count": 15,
   "id": "2dda31d8",
   "metadata": {},
   "outputs": [
    {
     "name": "stdout",
     "output_type": "stream",
     "text": [
      "[(3, datetime.datetime(2023, 3, 17, 0, 0), 'Negative')]\n"
     ]
    }
   ],
   "source": [
    "user_insert_engine, user_insert_cur = userAddData(newUserName3, newUserPassword3, 3, datetime.date(2023, 3, 17), \"Negative\")"
   ]
  },
  {
   "cell_type": "code",
   "execution_count": 16,
   "id": "e5e092dd",
   "metadata": {},
   "outputs": [],
   "source": [
    "user_insert_engine.close()"
   ]
  },
  {
   "cell_type": "code",
   "execution_count": 17,
   "id": "2c50b107",
   "metadata": {},
   "outputs": [
    {
     "name": "stdout",
     "output_type": "stream",
     "text": [
      "[(3, datetime.datetime(2023, 3, 17, 0, 0), 'Negative')]\n"
     ]
    }
   ],
   "source": [
    "user_signin_engine, user_signin_cur = userSignIn(newUserName3, newUserPassword3)"
   ]
  },
  {
   "cell_type": "code",
   "execution_count": 18,
   "id": "d4bf2f74",
   "metadata": {},
   "outputs": [],
   "source": [
    "user_signin_engine.close()"
   ]
  },
  {
   "cell_type": "code",
   "execution_count": 19,
   "id": "9cd6ea57",
   "metadata": {},
   "outputs": [
    {
     "name": "stdout",
     "output_type": "stream",
     "text": [
      "[(1, datetime.datetime(2023, 3, 17, 0, 0), 'Negative')]\n"
     ]
    }
   ],
   "source": [
    "user_signin_engine, user_signin_cur = userSignIn(newUserName1, newUserPassword1)"
   ]
  },
  {
   "cell_type": "code",
   "execution_count": 20,
   "id": "654cae83",
   "metadata": {},
   "outputs": [],
   "source": [
    "user_signin_engine.close()"
   ]
  },
  {
   "cell_type": "code",
   "execution_count": null,
   "id": "8622766e",
   "metadata": {},
   "outputs": [],
   "source": []
  }
 ],
 "metadata": {
  "kernelspec": {
   "display_name": "Python 3 (ipykernel)",
   "language": "python",
   "name": "python3"
  },
  "language_info": {
   "codemirror_mode": {
    "name": "ipython",
    "version": 3
   },
   "file_extension": ".py",
   "mimetype": "text/x-python",
   "name": "python",
   "nbconvert_exporter": "python",
   "pygments_lexer": "ipython3",
   "version": "3.10.9"
  }
 },
 "nbformat": 4,
 "nbformat_minor": 5
}
